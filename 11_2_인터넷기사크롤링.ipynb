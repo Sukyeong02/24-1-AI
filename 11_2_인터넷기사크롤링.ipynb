{
  "nbformat": 4,
  "nbformat_minor": 0,
  "metadata": {
    "colab": {
      "provenance": [],
      "gpuType": "T4",
      "authorship_tag": "ABX9TyNL/nrPBArdvgOWz+Kil2bZ",
      "include_colab_link": true
    },
    "kernelspec": {
      "name": "python3",
      "display_name": "Python 3"
    },
    "language_info": {
      "name": "python"
    },
    "accelerator": "GPU"
  },
  "cells": [
    {
      "cell_type": "markdown",
      "metadata": {
        "id": "view-in-github",
        "colab_type": "text"
      },
      "source": [
        "<a href=\"https://colab.research.google.com/github/Sukyeong02/24-1-AI/blob/main/11_2_%EC%9D%B8%ED%84%B0%EB%84%B7%EA%B8%B0%EC%82%AC%ED%81%AC%EB%A1%A4%EB%A7%81.ipynb\" target=\"_parent\"><img src=\"https://colab.research.google.com/assets/colab-badge.svg\" alt=\"Open In Colab\"/></a>"
      ]
    },
    {
      "cell_type": "code",
      "execution_count": null,
      "metadata": {
        "colab": {
          "base_uri": "https://localhost:8080/"
        },
        "id": "8sY8FPnsNlU8",
        "outputId": "28f294ec-572c-4697-db2e-e4bcfe05df13"
      },
      "outputs": [
        {
          "output_type": "stream",
          "name": "stdout",
          "text": [
            "총 뉴스 제목 개수:  44\n",
            "문재인 회고록, 여러 논란에도 베스트셀러 1위 등극\n",
            "문화재보호법 족쇄 풀린다…1946년 이후 미술품 해외거래 가능\n",
            "기아 해외 정비기술대회서 인도 참가자 금상\n",
            "임영웅, 작년 얼마 벌었나…정산금만 193억원, 주주 배당금까지\n",
            "전국 초여름 날씨…일부 지역 소나기[오늘날씨]\n",
            " 내륙 더위, 동해안 선선‥동쪽 곳곳 비·소나기[날씨]\n",
            "\"예술단체 62% 수도권 집중\"…지역대표 예술단체 22곳 육성\n",
            "RM, 솔로 2집 발표...\"손길 안 닿은 곳 없는 앨범\"\n",
            "\"맞은 놈이 말 많네\" 김호중 학폭 의혹 제기 영상에 달린 충격 댓글 [지금이뉴스]\n",
            "[날씨] 남부 중심 초여름 더위…늦은 오후부터 요란한 소나기\n",
            "중년들은 조금만 먹어도 뇌 기능 떨어진다… 피해야 하는 ‘이 음식’\n",
            "주말 비에 더위 식는다…산지는 싸락우박 주의\n",
            "\"보급형 맞아?\" 미친 스펙에 감탄…3000만원대 전기차 나왔다 [영상]\n",
            "일요일 오후부터 전국 비바람…\"시간당 20㎜ 강한 비 올 수도\"\n",
            "\"주말엔 비\"...일요일 오후부터 내주 월요일 아침까지 전국에 비\n",
            "“삼겹살은 삶아서 먹는다”…최고령 우승, 최경주의 건강 비결\n",
            "“강형욱, 레오 마지막까지 깨끗이 관리해줘”…수의사 증언 나왔다\n",
            "단순하게 배탈? 유행하는 염증성 질환 '크론병' 주의하세요!\n",
            "일요일 오후부터 월요일 오전, 전국에 짧고 강한 '비'\n",
            "[오후날씨 꿀팁] 초여름 더위 계속…동해안, 선선\n",
            "30대 여가수 사인 '급성알코올중독'... 위험군은?\n",
            "일요일부터 전국에 비, 비 그친 뒤 초여름 더위 한풀 꺾여\n",
            "“입술에 물집, 가까이 오지 마세요”...전염되는 이유가?\n",
            "[날씨] 영남 내륙 낮 기온 30도 안팎…늦은 오후 소나기\n",
            "승리, 홍콩서 클럽 오픈 준비?...홍콩 정부, 입장 밝혔다 [지금이뉴스]\n",
            "[단독] 김호중, '학폭 의혹' 부인...팬들은 \"맞은 놈이 말 많네\"\n",
            "[자막뉴스] \"심상찮은 대기 온도\"...올여름 역대급 기후 우려\n",
            "커피에 '이것' 넣었더니 풍미 살고 항산화 효과 ↑\n",
            "신장 투석 이겨내며 출산…두 아이의 엄마가 되다[병을 이겨내는 사람들]\n",
            "오메가3, ‘심장’에 좋은 줄 알았는데…‘이런 사람’에겐 오히려 해롭다?\n",
            "[날씨] 오늘도 남부 내륙 초여름 더위…늦은 오후 소나기\n",
            "주말 또 비 소식…월요일 아침까지 궂은 날씨\n",
            "[날씨] 충청 이남 초여름 더위...동해안 기온 '뚝'\n",
            "[날씨] 옅어지는 안개‥내륙 낮더위, 동해안 선선\n",
            "[오후날씨 꿀팁] 영남 내륙 30도 안팎…오후에 남부 내륙 소나기\n",
            "암환자 면역항암제 비용, 요즘 얼마나 드나?\n",
            "야구장 파울볼 잡으려다 ‘삐끗’…“순식간에 골절·신경 손상될 수도”\n",
            "아이 해열제 또?…'광동 내린다시럽' 회수\n",
            "장보고를 키워낸 '마한의 마지막 제국' 완도\n",
            "일요일 오후부터 내주 월요일 아침까지 전국에 비\n",
            "27년만의 의대 증원 오늘 확정…삼성병원은 금요일 휴진\n",
            "소유, 부기 빼기 위해 폼롤러… ‘이것’ 마시면 더 좋아\n",
            "테슬라 “2030년까지 연간 2천만대 판매” 목표 삭제…주가 3.5%↓\n",
            "배달 와플 겉에만 생크림 '찔끔'…항의했더니 '황당 반응'\n"
          ]
        }
      ],
      "source": [
        "import requests\n",
        "\n",
        "url = \"https://news.naver.com/main/main.nhn?mode=LSD&mid=shm&sid1=103\"\n",
        "\n",
        "headers = {\"User-Agent\": \"Mozilla/5.0 (Windows NT 10.0; Win64; x64) \\\n",
        "           AppleWebKit/537.36 (KHTML, like Gecko) Chrome/87.0.4280.88 Safari/537.36\"}\n",
        "result = requests.get(url, headers=headers)\n",
        "\n",
        "from bs4 import BeautifulSoup\n",
        "soup = BeautifulSoup(result.text, 'html.parser')\n",
        "\n",
        "news_titles = soup.find_all(class_='sa_text_strong')\n",
        "\n",
        "print('총 뉴스 제목 개수: ', len(news_titles))\n",
        "for item in news_titles:\n",
        "    print(item.get_text())"
      ]
    },
    {
      "cell_type": "code",
      "source": [
        "import pandas as pd\n",
        "import os\n",
        "\n",
        "if os.path.isfile('./test_SectionDataset.csv'):\n",
        "    df = pd.read_csv('./test_SectionDataset.csv', names=['title', 'section'], header=0)\n",
        "else:\n",
        "    bodyStruc = {'title': [], 'section': []}\n",
        "    df = pd.DataFrame( bodyStruc, columns=['title', 'section'] )\n",
        "\n",
        "for item in news_titles:\n",
        "    texts = item.get_text()\n",
        "    texts = texts.replace(',', \"\")\n",
        "    texts = texts.replace('\\'', \"\")\n",
        "    texts = texts.replace('\\\"', \"\")\n",
        "    texts = texts.replace('…', \" \")\n",
        "    print(texts)\n",
        "    oneData = {'title': texts, 'section': '3'}\n",
        "    oneDataDF = pd.DataFrame([oneData])\n",
        "    df = pd.concat([df, oneDataDF], ignore_index=True)\n",
        "\n",
        "df.to_csv('./test_SectionDataset.csv', encoding='UTF-8', index=False, header=True)"
      ],
      "metadata": {
        "colab": {
          "base_uri": "https://localhost:8080/"
        },
        "id": "0a6DTVg8NwFH",
        "outputId": "c358e18f-6cd4-493e-d475-ce0f566bb9e0"
      },
      "execution_count": null,
      "outputs": [
        {
          "output_type": "stream",
          "name": "stdout",
          "text": [
            "문재인 회고록 여러 논란에도 베스트셀러 1위 등극\n",
            "문화재보호법 족쇄 풀린다 1946년 이후 미술품 해외거래 가능\n",
            "기아 해외 정비기술대회서 인도 참가자 금상\n",
            "임영웅 작년 얼마 벌었나 정산금만 193억원 주주 배당금까지\n",
            "전국 초여름 날씨 일부 지역 소나기[오늘날씨]\n",
            " 내륙 더위 동해안 선선‥동쪽 곳곳 비·소나기[날씨]\n",
            "예술단체 62% 수도권 집중 지역대표 예술단체 22곳 육성\n",
            "RM 솔로 2집 발표...손길 안 닿은 곳 없는 앨범\n",
            "맞은 놈이 말 많네 김호중 학폭 의혹 제기 영상에 달린 충격 댓글 [지금이뉴스]\n",
            "[날씨] 남부 중심 초여름 더위 늦은 오후부터 요란한 소나기\n",
            "중년들은 조금만 먹어도 뇌 기능 떨어진다  피해야 하는 ‘이 음식’\n",
            "주말 비에 더위 식는다 산지는 싸락우박 주의\n",
            "보급형 맞아? 미친 스펙에 감탄 3000만원대 전기차 나왔다 [영상]\n",
            "일요일 오후부터 전국 비바람 시간당 20㎜ 강한 비 올 수도\n",
            "주말엔 비...일요일 오후부터 내주 월요일 아침까지 전국에 비\n",
            "“삼겹살은 삶아서 먹는다” 최고령 우승 최경주의 건강 비결\n",
            "“강형욱 레오 마지막까지 깨끗이 관리해줘” 수의사 증언 나왔다\n",
            "단순하게 배탈? 유행하는 염증성 질환 크론병 주의하세요!\n",
            "일요일 오후부터 월요일 오전 전국에 짧고 강한 비\n",
            "[오후날씨 꿀팁] 초여름 더위 계속 동해안 선선\n",
            "30대 여가수 사인 급성알코올중독... 위험군은?\n",
            "일요일부터 전국에 비 비 그친 뒤 초여름 더위 한풀 꺾여\n",
            "“입술에 물집 가까이 오지 마세요”...전염되는 이유가?\n",
            "[날씨] 영남 내륙 낮 기온 30도 안팎 늦은 오후 소나기\n",
            "승리 홍콩서 클럽 오픈 준비?...홍콩 정부 입장 밝혔다 [지금이뉴스]\n",
            "[단독] 김호중 학폭 의혹 부인...팬들은 맞은 놈이 말 많네\n",
            "[자막뉴스] 심상찮은 대기 온도...올여름 역대급 기후 우려\n",
            "커피에 이것 넣었더니 풍미 살고 항산화 효과 ↑\n",
            "신장 투석 이겨내며 출산 두 아이의 엄마가 되다[병을 이겨내는 사람들]\n",
            "오메가3 ‘심장’에 좋은 줄 알았는데 ‘이런 사람’에겐 오히려 해롭다?\n",
            "[날씨] 오늘도 남부 내륙 초여름 더위 늦은 오후 소나기\n",
            "주말 또 비 소식 월요일 아침까지 궂은 날씨\n",
            "[날씨] 충청 이남 초여름 더위...동해안 기온 뚝\n",
            "[날씨] 옅어지는 안개‥내륙 낮더위 동해안 선선\n",
            "[오후날씨 꿀팁] 영남 내륙 30도 안팎 오후에 남부 내륙 소나기\n",
            "암환자 면역항암제 비용 요즘 얼마나 드나?\n",
            "야구장 파울볼 잡으려다 ‘삐끗’ “순식간에 골절·신경 손상될 수도”\n",
            "아이 해열제 또? 광동 내린다시럽 회수\n",
            "장보고를 키워낸 마한의 마지막 제국 완도\n",
            "일요일 오후부터 내주 월요일 아침까지 전국에 비\n",
            "27년만의 의대 증원 오늘 확정 삼성병원은 금요일 휴진\n",
            "소유 부기 빼기 위해 폼롤러  ‘이것’ 마시면 더 좋아\n",
            "테슬라 “2030년까지 연간 2천만대 판매” 목표 삭제 주가 3.5%↓\n",
            "배달 와플 겉에만 생크림 찔끔 항의했더니 황당 반응\n"
          ]
        }
      ]
    },
    {
      "cell_type": "code",
      "source": [],
      "metadata": {
        "id": "rWtoIisbN9vx"
      },
      "execution_count": null,
      "outputs": []
    }
  ]
}