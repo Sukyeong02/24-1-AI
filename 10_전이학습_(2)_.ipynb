{
  "nbformat": 4,
  "nbformat_minor": 0,
  "metadata": {
    "colab": {
      "provenance": [],
      "gpuType": "T4",
      "mount_file_id": "1OlbZu20z18ntjppHzuCe1LItjI95Zr29",
      "authorship_tag": "ABX9TyNhdzY7HpNMft1xJ6uBCVrA",
      "include_colab_link": true
    },
    "kernelspec": {
      "name": "python3",
      "display_name": "Python 3"
    },
    "language_info": {
      "name": "python"
    },
    "accelerator": "GPU"
  },
  "cells": [
    {
      "cell_type": "markdown",
      "metadata": {
        "id": "view-in-github",
        "colab_type": "text"
      },
      "source": [
        "<a href=\"https://colab.research.google.com/github/Sukyeong02/24-1-AI/blob/main/10_%EC%A0%84%EC%9D%B4%ED%95%99%EC%8A%B5_(2)_.ipynb\" target=\"_parent\"><img src=\"https://colab.research.google.com/assets/colab-badge.svg\" alt=\"Open In Colab\"/></a>"
      ]
    },
    {
      "cell_type": "code",
      "execution_count": null,
      "metadata": {
        "colab": {
          "base_uri": "https://localhost:8080/"
        },
        "id": "50OTLCiJSuS-",
        "outputId": "92a5026c-f1ac-4b8b-aa91-33efc976154d"
      },
      "outputs": [
        {
          "output_type": "stream",
          "name": "stdout",
          "text": [
            "Done!\n"
          ]
        }
      ],
      "source": [
        "import cv2\n",
        "import math\n",
        "import matplotlib.pyplot as plt\n",
        "import pandas as pd\n",
        "from keras.preprocessing import image\n",
        "import numpy as np\n",
        "import tensorflow as tf\n",
        "from skimage.transform import resize\n",
        "\n",
        "count = 0\n",
        "cap = cv2.VideoCapture('/content/drive/MyDrive/24-1학기 코딩 수업/인공지능/Lecture 10/Tom and Jerry.mp4')\n",
        "frameRate = cap.get(5)\n",
        "x=1\n",
        "while(cap.isOpened()):\n",
        "    frameId = cap.get(1)\n",
        "    ret, frame = cap.read()\n",
        "    if (ret != True):\n",
        "      break\n",
        "    if (frameId % math.floor(frameRate) == 0):\n",
        "        filename =\"frame%d.jpg\" % count;count+=1\n",
        "        cv2.imwrite(filename, frame)\n",
        "cap.release()\n",
        "print (\"Done!\")"
      ]
    },
    {
      "cell_type": "code",
      "source": [
        "count = 0\n",
        "cap = cv2.VideoCapture('/content/drive/MyDrive/24-1학기 코딩 수업/인공지능/Lecture 10/Tom and Jerry 3.mp4')\n",
        "frameRate = cap.get(5)\n",
        "x=1\n",
        "while(cap.isOpened()):\n",
        "    frameId = cap.get(1)\n",
        "    ret, frame = cap.read()\n",
        "    if (ret != True):\n",
        "      break\n",
        "    if (frameId % math.floor(frameRate) == 0):\n",
        "        filename =\"test%d.jpg\" % count;count+=1\n",
        "        cv2.imwrite(filename, frame)\n",
        "cap.release()\n",
        "print (\"Done!\")"
      ],
      "metadata": {
        "colab": {
          "base_uri": "https://localhost:8080/"
        },
        "id": "sbx65pBESyD1",
        "outputId": "86c1dc93-d65f-4c44-cd3a-5a59cd9de992"
      },
      "execution_count": null,
      "outputs": [
        {
          "output_type": "stream",
          "name": "stdout",
          "text": [
            "Done!\n"
          ]
        }
      ]
    },
    {
      "cell_type": "code",
      "source": [
        "data = pd.read_csv('/content/drive/MyDrive/24-1학기 코딩 수업/인공지능/Lecture 10/mapping.csv')\n",
        "test = pd.read_csv('/content/drive/MyDrive/24-1학기 코딩 수업/인공지능/Lecture 10/testing.csv')"
      ],
      "metadata": {
        "id": "Q6utHG4HSyw1"
      },
      "execution_count": null,
      "outputs": []
    },
    {
      "cell_type": "code",
      "source": [
        "X = [ ]\n",
        "for img_name in data.Image_ID:\n",
        "    img = plt.imread('' + img_name)\n",
        "    X.append(img)\n",
        "X = np.array(X)\n",
        "\n",
        "test_image = []\n",
        "for img_name in test.Image_ID:\n",
        "  img = plt.imread('' + img_name)\n",
        "  test_image.append(img)\n",
        "test_img = np.array(test_image)\n",
        "\n",
        "from keras.utils import to_categorical\n",
        "train_y = to_categorical(data.Class)\n",
        "test_y = to_categorical(test.Class)\n",
        "\n",
        "image = []\n",
        "for i in range(0,X.shape[0]):\n",
        "    a = resize(X[i], preserve_range=True, output_shape=(224,224,3)).astype(int)\n",
        "    image.append(a)\n",
        "X = np.array(image)\n",
        "\n",
        "test_image = []\n",
        "for i in range(0,test_img.shape[0]):\n",
        "  a = resize(test_img[i], preserve_range=True, output_shape=(224,224)).astype(int)\n",
        "  test_image.append(a)\n",
        "test_image = np.array(test_image)"
      ],
      "metadata": {
        "id": "7yoY9GfgSzPx"
      },
      "execution_count": null,
      "outputs": []
    },
    {
      "cell_type": "code",
      "source": [
        "from sklearn.model_selection import train_test_split\n",
        "X_train, X_valid, y_train, y_valid = train_test_split(X, train_y, test_size=0.3, random_state=42)\n",
        "\n",
        "from keras.applications.vgg16 import VGG16\n",
        "\n",
        "base_model = VGG16(weights='imagenet',include_top=False,input_shape=(224,224,3))"
      ],
      "metadata": {
        "colab": {
          "base_uri": "https://localhost:8080/"
        },
        "id": "b3wKCJ6pSzSN",
        "outputId": "f2928351-1ca0-4dee-a069-520fcac43649"
      },
      "execution_count": null,
      "outputs": [
        {
          "output_type": "stream",
          "name": "stdout",
          "text": [
            "Downloading data from https://storage.googleapis.com/tensorflow/keras-applications/vgg16/vgg16_weights_tf_dim_ordering_tf_kernels_notop.h5\n",
            "58889256/58889256 [==============================] - 3s 0us/step\n"
          ]
        }
      ]
    },
    {
      "cell_type": "code",
      "source": [
        "from keras.models import Sequential\n",
        "from keras.layers import Dense, InputLayer, Dropout, Flatten\n",
        "\n",
        "model = Sequential()\n",
        "model.add(base_model)\n",
        "model.add(Flatten())\n",
        "model.add(Dense(64, activation='relu'))\n",
        "model.add(Dense(3, activation='softmax'))\n",
        "\n",
        "from keras.callbacks import ModelCheckpoint,EarlyStopping\n",
        "filepath = 'weights.best.hdf5'\n",
        "checkpoint = ModelCheckpoint(filepath, monitor='val_loss', verbose=1, save_best_only = True, mode='min')\n",
        "early_stopping_callback = EarlyStopping(monitor='val_loss', patience=10)\n",
        "\n",
        "model.compile(loss='categorical_crossentropy', optimizer='adam',metrics=['accuracy'])\n",
        "\n",
        "history = model.fit(X_train, y_train, epochs=100, validation_data=(X_valid, y_valid), callbacks=[early_stopping_callback, checkpoint])\n",
        "print(\"Done2\")"
      ],
      "metadata": {
        "colab": {
          "base_uri": "https://localhost:8080/"
        },
        "id": "fUW-5u6vSzUY",
        "outputId": "fe30757f-d965-416a-87ff-debc30dc0b97"
      },
      "execution_count": null,
      "outputs": [
        {
          "output_type": "stream",
          "name": "stdout",
          "text": [
            "Epoch 1/100\n",
            "7/7 [==============================] - ETA: 0s - loss: 0.9178 - accuracy: 0.6490\n",
            "Epoch 1: val_loss improved from inf to 1.01509, saving model to weights.best.hdf5\n",
            "7/7 [==============================] - 8s 625ms/step - loss: 0.9178 - accuracy: 0.6490 - val_loss: 1.0151 - val_accuracy: 0.6778\n",
            "Epoch 2/100\n",
            "7/7 [==============================] - ETA: 0s - loss: 0.3220 - accuracy: 0.8942\n",
            "Epoch 2: val_loss did not improve from 1.01509\n",
            "7/7 [==============================] - 3s 431ms/step - loss: 0.3220 - accuracy: 0.8942 - val_loss: 1.1822 - val_accuracy: 0.7222\n",
            "Epoch 3/100\n",
            "7/7 [==============================] - ETA: 0s - loss: 0.2119 - accuracy: 0.9231\n",
            "Epoch 3: val_loss did not improve from 1.01509\n",
            "7/7 [==============================] - 3s 449ms/step - loss: 0.2119 - accuracy: 0.9231 - val_loss: 1.8604 - val_accuracy: 0.7111\n",
            "Epoch 4/100\n",
            "7/7 [==============================] - ETA: 0s - loss: 0.2063 - accuracy: 0.9279\n",
            "Epoch 4: val_loss did not improve from 1.01509\n",
            "7/7 [==============================] - 3s 472ms/step - loss: 0.2063 - accuracy: 0.9279 - val_loss: 1.0674 - val_accuracy: 0.7667\n",
            "Epoch 5/100\n",
            "7/7 [==============================] - ETA: 0s - loss: 0.1474 - accuracy: 0.9471\n",
            "Epoch 5: val_loss did not improve from 1.01509\n",
            "7/7 [==============================] - 3s 469ms/step - loss: 0.1474 - accuracy: 0.9471 - val_loss: 1.4271 - val_accuracy: 0.7556\n",
            "Epoch 6/100\n",
            "7/7 [==============================] - ETA: 0s - loss: 0.1440 - accuracy: 0.9615\n",
            "Epoch 6: val_loss improved from 1.01509 to 0.89124, saving model to weights.best.hdf5\n",
            "7/7 [==============================] - 3s 516ms/step - loss: 0.1440 - accuracy: 0.9615 - val_loss: 0.8912 - val_accuracy: 0.8000\n",
            "Epoch 7/100\n",
            "7/7 [==============================] - ETA: 0s - loss: 0.1406 - accuracy: 0.9375\n",
            "Epoch 7: val_loss did not improve from 0.89124\n",
            "7/7 [==============================] - 3s 485ms/step - loss: 0.1406 - accuracy: 0.9375 - val_loss: 1.1170 - val_accuracy: 0.7667\n",
            "Epoch 8/100\n",
            "7/7 [==============================] - ETA: 0s - loss: 0.1031 - accuracy: 0.9856\n",
            "Epoch 8: val_loss did not improve from 0.89124\n",
            "7/7 [==============================] - 3s 444ms/step - loss: 0.1031 - accuracy: 0.9856 - val_loss: 1.1901 - val_accuracy: 0.7333\n",
            "Epoch 9/100\n",
            "7/7 [==============================] - ETA: 0s - loss: 0.0512 - accuracy: 0.9856\n",
            "Epoch 9: val_loss did not improve from 0.89124\n",
            "7/7 [==============================] - 3s 439ms/step - loss: 0.0512 - accuracy: 0.9856 - val_loss: 1.4595 - val_accuracy: 0.7778\n",
            "Epoch 10/100\n",
            "7/7 [==============================] - ETA: 0s - loss: 0.2061 - accuracy: 0.9615\n",
            "Epoch 10: val_loss did not improve from 0.89124\n",
            "7/7 [==============================] - 3s 436ms/step - loss: 0.2061 - accuracy: 0.9615 - val_loss: 2.4938 - val_accuracy: 0.7333\n",
            "Epoch 11/100\n",
            "7/7 [==============================] - ETA: 0s - loss: 0.2490 - accuracy: 0.9375\n",
            "Epoch 11: val_loss did not improve from 0.89124\n",
            "7/7 [==============================] - 3s 476ms/step - loss: 0.2490 - accuracy: 0.9375 - val_loss: 3.2438 - val_accuracy: 0.7222\n",
            "Epoch 12/100\n",
            "7/7 [==============================] - ETA: 0s - loss: 0.3596 - accuracy: 0.9375\n",
            "Epoch 12: val_loss did not improve from 0.89124\n",
            "7/7 [==============================] - 3s 489ms/step - loss: 0.3596 - accuracy: 0.9375 - val_loss: 2.6640 - val_accuracy: 0.8000\n",
            "Epoch 13/100\n",
            "7/7 [==============================] - ETA: 0s - loss: 0.3093 - accuracy: 0.9471\n",
            "Epoch 13: val_loss did not improve from 0.89124\n",
            "7/7 [==============================] - 3s 475ms/step - loss: 0.3093 - accuracy: 0.9471 - val_loss: 1.7847 - val_accuracy: 0.7111\n",
            "Epoch 14/100\n",
            "7/7 [==============================] - ETA: 0s - loss: 0.2471 - accuracy: 0.9087\n",
            "Epoch 14: val_loss did not improve from 0.89124\n",
            "7/7 [==============================] - 3s 474ms/step - loss: 0.2471 - accuracy: 0.9087 - val_loss: 1.5583 - val_accuracy: 0.7667\n",
            "Epoch 15/100\n",
            "7/7 [==============================] - ETA: 0s - loss: 0.2381 - accuracy: 0.9423\n",
            "Epoch 15: val_loss did not improve from 0.89124\n",
            "7/7 [==============================] - 3s 434ms/step - loss: 0.2381 - accuracy: 0.9423 - val_loss: 2.8068 - val_accuracy: 0.7778\n",
            "Epoch 16/100\n",
            "7/7 [==============================] - ETA: 0s - loss: 0.1381 - accuracy: 0.9615\n",
            "Epoch 16: val_loss did not improve from 0.89124\n",
            "7/7 [==============================] - 3s 450ms/step - loss: 0.1381 - accuracy: 0.9615 - val_loss: 2.8800 - val_accuracy: 0.7333\n",
            "Done2\n"
          ]
        }
      ]
    },
    {
      "cell_type": "code",
      "source": [
        "scores = model.evaluate(test_image, test_y)\n",
        "print('Real Test %s: %.2f%%' % (model.metrics_names[1], scores[1]*100))\n",
        "\n",
        "predictions = np.argmax(model.predict(test_image), axis=1)\n",
        "print('The screen time of None is ', predictions[predictions==0].shape[0], 'seconds')\n",
        "print('The screen time of Jerry is ', predictions[predictions==1].shape[0], 'seconds')\n",
        "print('The screen time of Tom is ', predictions[predictions==2].shape[0], 'seconds')\n",
        "\n",
        "acc = history.history['accuracy']\n",
        "val_acc = history.history['val_accuracy']\n",
        "y_vloss = history.history['val_loss']\n",
        "y_loss = history.history['loss']\n",
        "\n",
        "x_len = np.arange(len(y_loss))\n",
        "plt.plot(x_len, acc, marker='.', c='red', label='Trainset_acc')\n",
        "plt.plot(x_len, val_acc, marker='.', c='lightcoral', label='Testset_acc')\n",
        "plt.plot(x_len, y_vloss, marker='.', c='cornflowerblue', label='Testset_loss')\n",
        "plt.plot(x_len, y_loss, marker='.', c='blue', label='Trainset_loss')\n",
        "plt.legend(loc='upper right')\n",
        "plt.grid()\n",
        "plt.xlabel('epoch')\n",
        "plt.ylabel('loss/acc')\n",
        "plt.show()"
      ],
      "metadata": {
        "colab": {
          "base_uri": "https://localhost:8080/",
          "height": 557
        },
        "id": "yIp55QP5SzW1",
        "outputId": "96f3c45d-0ae5-4ea2-9e5e-28b21abe00da"
      },
      "execution_count": null,
      "outputs": [
        {
          "output_type": "stream",
          "name": "stdout",
          "text": [
            "6/6 [==============================] - 1s 122ms/step - loss: 6.7380 - accuracy: 0.3441\n",
            "Real Test accuracy: 34.41%\n",
            "6/6 [==============================] - 1s 117ms/step\n",
            "The screen time of None is  113 seconds\n",
            "The screen time of Jerry is  36 seconds\n",
            "The screen time of Tom is  37 seconds\n"
          ]
        },
        {
          "output_type": "display_data",
          "data": {
            "text/plain": [
              "<Figure size 640x480 with 1 Axes>"
            ],
            "image/png": "[encoded data removed]"
          },
          "metadata": {}
        }
      ]
    },
    {
      "cell_type": "code",
      "source": [],
      "metadata": {
        "id": "XxTrUOiUSzeF"
      },
      "execution_count": null,
      "outputs": []
    }
  ]
}