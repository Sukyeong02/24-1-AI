{
  "nbformat": 4,
  "nbformat_minor": 0,
  "metadata": {
    "colab": {
      "provenance": [],
      "gpuType": "T4",
      "authorship_tag": "ABX9TyMSozV0Fl/8CVpC95pQZrTW",
      "include_colab_link": true
    },
    "kernelspec": {
      "name": "python3",
      "display_name": "Python 3"
    },
    "language_info": {
      "name": "python"
    },
    "accelerator": "GPU"
  },
  "cells": [
    {
      "cell_type": "markdown",
      "metadata": {
        "id": "view-in-github",
        "colab_type": "text"
      },
      "source": [
        "<a href=\"https://colab.research.google.com/github/Sukyeong02/24-1-AI/blob/main/9_CNN_(2).ipynb\" target=\"_parent\"><img src=\"https://colab.research.google.com/assets/colab-badge.svg\" alt=\"Open In Colab\"/></a>"
      ]
    },
    {
      "cell_type": "code",
      "execution_count": null,
      "metadata": {
        "id": "huSemsEBSx2Q"
      },
      "outputs": [],
      "source": [
        "from keras.datasets import mnist\n",
        "from keras.utils import to_categorical\n",
        "from keras.models import Sequential\n",
        "from keras.layers import Dense, Dropout, Flatten, Conv2D, MaxPooling2D\n",
        "from keras.callbacks import ModelCheckpoint,EarlyStopping\n",
        "\n",
        "import matplotlib.pyplot as plt\n",
        "import numpy\n",
        "import os\n",
        "import tensorflow as tf\n",
        "\n",
        "seed = 0\n",
        "numpy.random.seed(seed)\n",
        "tf.random.set_seed(3)"
      ]
    },
    {
      "cell_type": "code",
      "source": [
        "(X_train, Y_train), (X_test, Y_test) = mnist.load_data()\n",
        "X_train = X_train.reshape(X_train.shape[0], 28, 28, 1).astype('float32') / 255\n",
        "X_test = X_test.reshape(X_test.shape[0], 28, 28, 1).astype('float32') / 255\n",
        "Y_train = to_categorical(Y_train)\n",
        "Y_test = to_categorical(Y_test)"
      ],
      "metadata": {
        "id": "PhqnBwKjTjRY"
      },
      "execution_count": null,
      "outputs": []
    },
    {
      "cell_type": "code",
      "source": [
        "model = Sequential()\n",
        "model.add(Conv2D(32, kernel_size=(3, 3), input_shape=(28, 28, 1), activation='relu'))\n",
        "model.add(Conv2D(64, (3, 3), activation='relu'))\n",
        "# model.add(MaxPooling2D(pool_size=2))\n",
        "model.add(Dropout(0.25))\n",
        "model.add(Flatten())\n",
        "model.add(Dense(128,  activation='relu'))\n",
        "model.add(Dropout(0.5))\n",
        "model.add(Dense(10, activation='softmax'))\n",
        "\n",
        "model.compile(loss='categorical_crossentropy',\n",
        "              optimizer='adam',\n",
        "              metrics=['accuracy'])\n",
        "\n",
        "MODEL_DIR = './model/'\n",
        "if not os.path.exists(MODEL_DIR):\n",
        "    os.mkdir(MODEL_DIR)\n",
        "\n",
        "modelpath=\"./model/{epoch:02d}-{val_loss:.4f}.hdf5\"\n",
        "checkpointer = ModelCheckpoint(filepath=modelpath, monitor='val_loss', verbose=1, save_best_only=True)\n",
        "early_stopping_callback = EarlyStopping(monitor='val_loss', patience=10)\n",
        "\n",
        "history = model.fit(X_train, Y_train, validation_data=(X_test, Y_test), epochs=30, batch_size=200, verbose=0, callbacks=[early_stopping_callback,checkpointer])\n",
        "\n",
        "print(\"\\n Test Accuracy: %.4f\" % (model.evaluate(X_test, Y_test)[1]))\n",
        "\n",
        "y_vloss = history.history['val_loss']\n",
        "\n",
        "y_loss = history.history['loss']\n",
        "\n",
        "x_len = numpy.arange(len(y_loss))\n",
        "plt.plot(x_len, y_vloss, marker='.', c=\"red\", label='Testset_loss')\n",
        "plt.plot(x_len, y_loss, marker='.', c=\"blue\", label='Trainset_loss')\n",
        "plt.legend(loc='upper right')\n",
        "plt.grid()\n",
        "plt.xlabel('epoch')\n",
        "plt.ylabel('loss')\n",
        "plt.show()"
      ],
      "metadata": {
        "id": "eTjqxuAUVRwk",
        "colab": {
          "base_uri": "https://localhost:8080/",
          "height": 1000
        },
        "outputId": "474d0c56-2325-4812-8970-f79e91fc0fd7"
      },
      "execution_count": null,
      "outputs": [
        {
          "output_type": "stream",
          "name": "stdout",
          "text": [
            "\n",
            "Epoch 1: val_loss improved from inf to 0.05033, saving model to ./model/01-0.0503.hdf5\n",
            "\n",
            "Epoch 2: val_loss improved from 0.05033 to 0.03789, saving model to ./model/02-0.0379.hdf5\n",
            "\n",
            "Epoch 3: val_loss improved from 0.03789 to 0.03700, saving model to ./model/03-0.0370.hdf5\n",
            "\n",
            "Epoch 4: val_loss improved from 0.03700 to 0.03322, saving model to ./model/04-0.0332.hdf5\n",
            "\n",
            "Epoch 5: val_loss improved from 0.03322 to 0.03063, saving model to ./model/05-0.0306.hdf5\n",
            "\n",
            "Epoch 6: val_loss improved from 0.03063 to 0.02798, saving model to ./model/06-0.0280.hdf5\n",
            "\n",
            "Epoch 7: val_loss did not improve from 0.02798\n",
            "\n",
            "Epoch 8: val_loss did not improve from 0.02798\n",
            "\n",
            "Epoch 9: val_loss did not improve from 0.02798\n",
            "\n",
            "Epoch 10: val_loss did not improve from 0.02798\n",
            "\n",
            "Epoch 11: val_loss did not improve from 0.02798\n",
            "\n",
            "Epoch 12: val_loss did not improve from 0.02798\n",
            "\n",
            "Epoch 13: val_loss did not improve from 0.02798\n",
            "\n",
            "Epoch 14: val_loss did not improve from 0.02798\n",
            "\n",
            "Epoch 15: val_loss did not improve from 0.02798\n",
            "\n",
            "Epoch 16: val_loss did not improve from 0.02798\n",
            "313/313 [==============================] - 1s 3ms/step - loss: 0.0347 - accuracy: 0.9920\n",
            "\n",
            " Test Accuracy: 0.9920\n"
          ]
        },
        {
          "output_type": "display_data",
          "data": {
            "text/plain": [
              "<Figure size 640x480 with 1 Axes>"
            ],
            "image/png": "[encoded data removed]"
          },
          "metadata": {}
        }
      ]
    },
    {
      "cell_type": "code",
      "source": [],
      "metadata": {
        "id": "CCcjIZhUTi1K"
      },
      "execution_count": null,
      "outputs": []
    }
  ]
}