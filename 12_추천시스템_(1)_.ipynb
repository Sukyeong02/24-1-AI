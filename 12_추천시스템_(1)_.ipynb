{
  "nbformat": 4,
  "nbformat_minor": 0,
  "metadata": {
    "colab": {
      "provenance": [],
      "gpuType": "T4",
      "mount_file_id": "1Mbi6VLVhTqdMJDY9bFJdfSEx6zucGZbq",
      "authorship_tag": "ABX9TyNalKXK6yJFx2PpG12kikfH",
      "include_colab_link": true
    },
    "kernelspec": {
      "name": "python3",
      "display_name": "Python 3"
    },
    "language_info": {
      "name": "python"
    },
    "accelerator": "GPU"
  },
  "cells": [
    {
      "cell_type": "markdown",
      "metadata": {
        "id": "view-in-github",
        "colab_type": "text"
      },
      "source": [
        "<a href=\"https://colab.research.google.com/github/Sukyeong02/24-1-AI/blob/main/12_%EC%B6%94%EC%B2%9C%EC%8B%9C%EC%8A%A4%ED%85%9C_(1)_.ipynb\" target=\"_parent\"><img src=\"https://colab.research.google.com/assets/colab-badge.svg\" alt=\"Open In Colab\"/></a>"
      ]
    },
    {
      "cell_type": "code",
      "source": [
        "from google.colab import drive\n",
        "drive.mount('/content/drive')"
      ],
      "metadata": {
        "id": "QDy1KEkiIS8T"
      },
      "execution_count": null,
      "outputs": []
    },
    {
      "cell_type": "code",
      "source": [
        "import pandas as pd\n",
        "import matplotlib.pyplot as plt\n",
        "\n",
        "df1 = pd.read_csv('/content/drive/MyDrive/24-1학기 코딩 수업/인공지능/ratings.csv')\n",
        "print( df1.shape )\n",
        "print( df1.head(2))\n",
        "\n",
        "df2 = pd.read_csv('/content/drive/MyDrive/24-1학기 코딩 수업/인공지능/movies.csv')\n",
        "print( df2.shape )\n",
        "print( df2.head(2))"
      ],
      "metadata": {
        "colab": {
          "base_uri": "https://localhost:8080/"
        },
        "id": "N_Or0MFZIWtY",
        "outputId": "70a2ceb7-913e-418b-cccf-fda41fdcc188"
      },
      "execution_count": null,
      "outputs": [
        {
          "output_type": "stream",
          "name": "stdout",
          "text": [
            "(100004, 4)\n",
            "   userId  movieId  rating   timestamp\n",
            "0       1       31     2.5  1260759144\n",
            "1       1     1029     3.0  1260759179\n",
            "(9125, 3)\n",
            "   movieId             title                                       genres\n",
            "0        1  Toy Story (1995)  Adventure|Animation|Children|Comedy|Fantasy\n",
            "1        2    Jumanji (1995)                   Adventure|Children|Fantasy\n"
          ]
        }
      ]
    },
    {
      "cell_type": "code",
      "source": [
        "df4 = pd.merge(df1, df2, on='movieId')\n",
        "print( df4.shape )\n",
        "print( df4.head(2) )"
      ],
      "metadata": {
        "colab": {
          "base_uri": "https://localhost:8080/"
        },
        "id": "blcwB-vWIZkT",
        "outputId": "9f4521e6-12b0-4391-a592-9d2d50d79d83"
      },
      "execution_count": null,
      "outputs": [
        {
          "output_type": "stream",
          "name": "stdout",
          "text": [
            "(100004, 6)\n",
            "   userId  movieId  rating   timestamp                   title genres\n",
            "0       1       31     2.5  1260759144  Dangerous Minds (1995)  Drama\n",
            "1       7       31     3.0   851868750  Dangerous Minds (1995)  Drama\n"
          ]
        }
      ]
    },
    {
      "cell_type": "code",
      "source": [
        "movie_user_rating = df4.pivot_table('rating', index='userId', columns='title')\n",
        "print( movie_user_rating.shape )\n",
        "print( movie_user_rating.head(3) )"
      ],
      "metadata": {
        "colab": {
          "base_uri": "https://localhost:8080/"
        },
        "id": "A-uf9zPxIZix",
        "outputId": "b687a745-3479-4473-ee9c-307170ea8964"
      },
      "execution_count": null,
      "outputs": [
        {
          "output_type": "stream",
          "name": "stdout",
          "text": [
            "(671, 9064)\n",
            "title   \"Great Performances\" Cats (1998)  $9.99 (2008)  \\\n",
            "userId                                                   \n",
            "1                                    NaN           NaN   \n",
            "2                                    NaN           NaN   \n",
            "3                                    NaN           NaN   \n",
            "\n",
            "title   'Hellboy': The Seeds of Creation (2004)  \\\n",
            "userId                                            \n",
            "1                                           NaN   \n",
            "2                                           NaN   \n",
            "3                                           NaN   \n",
            "\n",
            "title   'Neath the Arizona Skies (1934)  'Round Midnight (1986)  \\\n",
            "userId                                                            \n",
            "1                                   NaN                     NaN   \n",
            "2                                   NaN                     NaN   \n",
            "3                                   NaN                     NaN   \n",
            "\n",
            "title   'Salem's Lot (2004)  'Til There Was You (1997)  'burbs, The (1989)  \\\n",
            "userId                                                                       \n",
            "1                       NaN                        NaN                 NaN   \n",
            "2                       NaN                        NaN                 NaN   \n",
            "3                       NaN                        NaN                 NaN   \n",
            "\n",
            "title   'night Mother (1986)  (500) Days of Summer (2009)  ...  Zulu (1964)  \\\n",
            "userId                                                     ...                \n",
            "1                        NaN                          NaN  ...          NaN   \n",
            "2                        NaN                          NaN  ...          NaN   \n",
            "3                        NaN                          NaN  ...          NaN   \n",
            "\n",
            "title   Zulu (2013)  [REC] (2007)  eXistenZ (1999)  \\\n",
            "userId                                               \n",
            "1               NaN           NaN              NaN   \n",
            "2               NaN           NaN              NaN   \n",
            "3               NaN           NaN              NaN   \n",
            "\n",
            "title   loudQUIETloud: A Film About the Pixies (2006)  xXx (2002)  \\\n",
            "userId                                                              \n",
            "1                                                 NaN         NaN   \n",
            "2                                                 NaN         NaN   \n",
            "3                                                 NaN         NaN   \n",
            "\n",
            "title   xXx: State of the Union (2005)  ¡Three Amigos! (1986)  \\\n",
            "userId                                                          \n",
            "1                                  NaN                    NaN   \n",
            "2                                  NaN                    NaN   \n",
            "3                                  NaN                    NaN   \n",
            "\n",
            "title   À nous la liberté (Freedom for Us) (1931)  İtirazım Var (2014)  \n",
            "userId                                                                  \n",
            "1                                             NaN                  NaN  \n",
            "2                                             NaN                  NaN  \n",
            "3                                             NaN                  NaN  \n",
            "\n",
            "[3 rows x 9064 columns]\n"
          ]
        }
      ]
    },
    {
      "cell_type": "code",
      "source": [
        "new_rating = movie_user_rating.fillna(0)\n",
        "print( new_rating.head(3) )"
      ],
      "metadata": {
        "colab": {
          "base_uri": "https://localhost:8080/"
        },
        "id": "p1xZHFQYIZgV",
        "outputId": "ad0243a6-284c-482c-e5ff-e4a9c0e2b9ef"
      },
      "execution_count": null,
      "outputs": [
        {
          "output_type": "stream",
          "name": "stdout",
          "text": [
            "title   \"Great Performances\" Cats (1998)  $9.99 (2008)  \\\n",
            "userId                                                   \n",
            "1                                    0.0           0.0   \n",
            "2                                    0.0           0.0   \n",
            "3                                    0.0           0.0   \n",
            "\n",
            "title   'Hellboy': The Seeds of Creation (2004)  \\\n",
            "userId                                            \n",
            "1                                           0.0   \n",
            "2                                           0.0   \n",
            "3                                           0.0   \n",
            "\n",
            "title   'Neath the Arizona Skies (1934)  'Round Midnight (1986)  \\\n",
            "userId                                                            \n",
            "1                                   0.0                     0.0   \n",
            "2                                   0.0                     0.0   \n",
            "3                                   0.0                     0.0   \n",
            "\n",
            "title   'Salem's Lot (2004)  'Til There Was You (1997)  'burbs, The (1989)  \\\n",
            "userId                                                                       \n",
            "1                       0.0                        0.0                 0.0   \n",
            "2                       0.0                        0.0                 0.0   \n",
            "3                       0.0                        0.0                 0.0   \n",
            "\n",
            "title   'night Mother (1986)  (500) Days of Summer (2009)  ...  Zulu (1964)  \\\n",
            "userId                                                     ...                \n",
            "1                        0.0                          0.0  ...          0.0   \n",
            "2                        0.0                          0.0  ...          0.0   \n",
            "3                        0.0                          0.0  ...          0.0   \n",
            "\n",
            "title   Zulu (2013)  [REC] (2007)  eXistenZ (1999)  \\\n",
            "userId                                               \n",
            "1               0.0           0.0              0.0   \n",
            "2               0.0           0.0              0.0   \n",
            "3               0.0           0.0              0.0   \n",
            "\n",
            "title   loudQUIETloud: A Film About the Pixies (2006)  xXx (2002)  \\\n",
            "userId                                                              \n",
            "1                                                 0.0         0.0   \n",
            "2                                                 0.0         0.0   \n",
            "3                                                 0.0         0.0   \n",
            "\n",
            "title   xXx: State of the Union (2005)  ¡Three Amigos! (1986)  \\\n",
            "userId                                                          \n",
            "1                                  0.0                    0.0   \n",
            "2                                  0.0                    0.0   \n",
            "3                                  0.0                    0.0   \n",
            "\n",
            "title   À nous la liberté (Freedom for Us) (1931)  İtirazım Var (2014)  \n",
            "userId                                                                  \n",
            "1                                             0.0                  0.0  \n",
            "2                                             0.0                  0.0  \n",
            "3                                             0.0                  0.0  \n",
            "\n",
            "[3 rows x 9064 columns]\n"
          ]
        }
      ]
    },
    {
      "cell_type": "code",
      "source": [
        "from sklearn.metrics.pairwise import cosine_similarity\n",
        "\n",
        "item_collabor = cosine_similarity( new_rating )\n",
        "print( item_collabor )"
      ],
      "metadata": {
        "colab": {
          "base_uri": "https://localhost:8080/"
        },
        "id": "bL2oYJuSIZeF",
        "outputId": "8ceb4c0c-2926-4b3c-de0c-6f857a171a03"
      },
      "execution_count": null,
      "outputs": [
        {
          "output_type": "stream",
          "name": "stdout",
          "text": [
            "[[1.         0.         0.         ... 0.06291708 0.         0.01746565]\n",
            " [0.         1.         0.12429498 ... 0.02413984 0.17059464 0.1131753 ]\n",
            " [0.         0.12429498 1.         ... 0.08098382 0.13660585 0.17019275]\n",
            " ...\n",
            " [0.06291708 0.02413984 0.08098382 ... 1.         0.04260878 0.08520194]\n",
            " [0.         0.17059464 0.13660585 ... 0.04260878 1.         0.22867673]\n",
            " [0.01746565 0.1131753  0.17019275 ... 0.08520194 0.22867673 1.        ]]\n"
          ]
        }
      ]
    },
    {
      "cell_type": "code",
      "source": [
        "similarity_matrix = pd.DataFrame(data=item_collabor, index=new_rating.index, columns=new_rating.index)\n",
        "print( similarity_matrix.head() )"
      ],
      "metadata": {
        "colab": {
          "base_uri": "https://localhost:8080/"
        },
        "id": "xZR3i2BLIcDr",
        "outputId": "9d781744-4b24-4665-a6c2-8abca93d2400"
      },
      "execution_count": null,
      "outputs": [
        {
          "output_type": "stream",
          "name": "stdout",
          "text": [
            "userId       1         2         3         4         5         6         7    \\\n",
            "userId                                                                         \n",
            "1       1.000000  0.000000  0.000000  0.074482  0.016818  0.000000  0.083884   \n",
            "2       0.000000  1.000000  0.124295  0.118821  0.103646  0.000000  0.212985   \n",
            "3       0.000000  0.124295  1.000000  0.081640  0.151531  0.060691  0.154714   \n",
            "4       0.074482  0.118821  0.081640  1.000000  0.130649  0.079648  0.319745   \n",
            "5       0.016818  0.103646  0.151531  0.130649  1.000000  0.063796  0.095888   \n",
            "\n",
            "userId       8         9         10   ...       662       663       664  \\\n",
            "userId                                ...                                 \n",
            "1       0.000000  0.012843  0.000000  ...  0.000000  0.000000  0.014481   \n",
            "2       0.113190  0.113333  0.043213  ...  0.477306  0.063202  0.077784   \n",
            "3       0.249781  0.134475  0.114672  ...  0.161205  0.064198  0.176222   \n",
            "4       0.191013  0.030417  0.137186  ...  0.114319  0.047228  0.136647   \n",
            "5       0.165712  0.086616  0.032370  ...  0.191029  0.021142  0.146246   \n",
            "\n",
            "userId       665       666       667       668       669       670       671  \n",
            "userId                                                                        \n",
            "1       0.043719  0.000000  0.000000  0.000000  0.062917  0.000000  0.017466  \n",
            "2       0.164162  0.466281  0.425462  0.084646  0.024140  0.170595  0.113175  \n",
            "3       0.158357  0.177098  0.124562  0.124911  0.080984  0.136606  0.170193  \n",
            "4       0.254030  0.121905  0.088735  0.068483  0.104309  0.054512  0.211609  \n",
            "5       0.224245  0.139721  0.058252  0.042926  0.038358  0.062642  0.225086  \n",
            "\n",
            "[5 rows x 671 columns]\n"
          ]
        }
      ]
    },
    {
      "cell_type": "code",
      "source": [
        "def get_item_collabor(userID):\n",
        "    return similarity_matrix[userID].sort_values(ascending=False)[:6]\n",
        "\n",
        "print( get_item_collabor(3))"
      ],
      "metadata": {
        "colab": {
          "base_uri": "https://localhost:8080/"
        },
        "id": "z6XSHPNSIb-q",
        "outputId": "f393ba41-6ed0-404f-fcd3-5aef90945b2d"
      },
      "execution_count": null,
      "outputs": [
        {
          "output_type": "stream",
          "name": "stdout",
          "text": [
            "userId\n",
            "3      1.000000\n",
            "379    0.319619\n",
            "146    0.295441\n",
            "513    0.281170\n",
            "94     0.262043\n",
            "458    0.259552\n",
            "Name: 3, dtype: float64\n"
          ]
        }
      ]
    },
    {
      "cell_type": "code",
      "source": [],
      "metadata": {
        "id": "aFay7EWTJraD"
      },
      "execution_count": null,
      "outputs": []
    }
  ]
}