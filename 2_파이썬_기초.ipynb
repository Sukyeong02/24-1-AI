{
  "nbformat": 4,
  "nbformat_minor": 0,
  "metadata": {
    "colab": {
      "provenance": [],
      "gpuType": "T4"
    },
    "kernelspec": {
      "name": "python3",
      "display_name": "Python 3"
    },
    "language_info": {
      "name": "python"
    },
    "accelerator": "GPU"
  },
  "cells": [
    {
      "cell_type": "markdown",
      "source": [
        "### 실습과제 1"
      ],
      "metadata": {
        "id": "Twtbl2EzQNx5"
      }
    },
    {
      "cell_type": "code",
      "execution_count": null,
      "metadata": {
        "id": "NNL-WqK495KK"
      },
      "outputs": [],
      "source": [
        "import numpy as np"
      ]
    },
    {
      "cell_type": "code",
      "source": [
        "A = np.random.randint(1, 99, size=(2,8))"
      ],
      "metadata": {
        "id": "pOq7C_s7-nMw"
      },
      "execution_count": null,
      "outputs": []
    },
    {
      "cell_type": "code",
      "source": [
        "print(type(A))"
      ],
      "metadata": {
        "id": "xcEkTyXu_oEB",
        "colab": {
          "base_uri": "https://localhost:8080/"
        },
        "outputId": "f8700fe2-eb34-44b6-8f0b-47099261a2cc"
      },
      "execution_count": null,
      "outputs": [
        {
          "output_type": "stream",
          "name": "stdout",
          "text": [
            "<class 'numpy.ndarray'>\n"
          ]
        }
      ]
    },
    {
      "cell_type": "code",
      "source": [
        "print(A.shape)\n",
        "print(A.shape[0])\n",
        "print(A.shape[1])\n",
        "print(A)"
      ],
      "metadata": {
        "colab": {
          "base_uri": "https://localhost:8080/"
        },
        "id": "l-xA3mcGAgDM",
        "outputId": "9c7adc58-6e5d-46dd-c7cb-7cc297ce54a1"
      },
      "execution_count": null,
      "outputs": [
        {
          "output_type": "stream",
          "name": "stdout",
          "text": [
            "(2, 8)\n",
            "2\n",
            "8\n",
            "[[ 1  1 63 64 11 81 57 24]\n",
            " [68 70 42 89 68 41 98 33]]\n"
          ]
        }
      ]
    },
    {
      "cell_type": "code",
      "source": [
        "max_value = None\n",
        "for i in range(A.shape[0]):\n",
        "    for j in range(A.shape[1]):\n",
        "        if max_value is None or A[i, j] > max_value:\n",
        "            max_value = A[i, j]\n",
        "print(\"All Max : \", max_value)\n",
        "\n",
        "\n",
        "for i in range(A.shape[0]):\n",
        "    max_value2 = None\n",
        "    for j in range(A.shape[1]):\n",
        "        if max_value2 is None or A[i, j] > max_value2:\n",
        "            max_value2 = A[i, j]\n",
        "    print(\"SubMax\", i, \":\", max_value2)"
      ],
      "metadata": {
        "colab": {
          "base_uri": "https://localhost:8080/"
        },
        "id": "AjFKVrtknj-5",
        "outputId": "89b8771a-9bfb-483b-dc82-1979b7157b79"
      },
      "execution_count": null,
      "outputs": [
        {
          "output_type": "stream",
          "name": "stdout",
          "text": [
            "All Max :  98\n",
            "SubMax 0 : 81\n",
            "SubMax 1 : 98\n"
          ]
        }
      ]
    },
    {
      "cell_type": "code",
      "source": [
        "B = A.reshape(2,2,4)"
      ],
      "metadata": {
        "id": "NnjfvuZWMX58"
      },
      "execution_count": null,
      "outputs": []
    },
    {
      "cell_type": "code",
      "source": [
        "print(B.shape)\n",
        "print(B)"
      ],
      "metadata": {
        "colab": {
          "base_uri": "https://localhost:8080/"
        },
        "id": "IZZjiwGiNPZc",
        "outputId": "77fc03d4-aaac-4d6e-f3ae-baf763395bfe"
      },
      "execution_count": null,
      "outputs": [
        {
          "output_type": "stream",
          "name": "stdout",
          "text": [
            "(2, 2, 4)\n",
            "[[[ 1  1 63 64]\n",
            "  [11 81 57 24]]\n",
            "\n",
            " [[68 70 42 89]\n",
            "  [68 41 98 33]]]\n"
          ]
        }
      ]
    },
    {
      "cell_type": "markdown",
      "source": [
        "### 실습과제 2"
      ],
      "metadata": {
        "id": "HOnF9wqsQTbI"
      }
    },
    {
      "cell_type": "code",
      "source": [
        "C = B.copy()"
      ],
      "metadata": {
        "id": "aH92GXYyQXnl"
      },
      "execution_count": null,
      "outputs": []
    },
    {
      "cell_type": "code",
      "source": [
        "C[:,:,0:2] = B[:,:,2:]\n",
        "C[:,:,2:] = B[:,:,:2]"
      ],
      "metadata": {
        "id": "5hIadD6FdxHG"
      },
      "execution_count": null,
      "outputs": []
    },
    {
      "cell_type": "code",
      "source": [
        "print(C)"
      ],
      "metadata": {
        "colab": {
          "base_uri": "https://localhost:8080/"
        },
        "id": "mOMw3-LHd4Pz",
        "outputId": "1e197970-4288-4005-9bf6-70b280404045"
      },
      "execution_count": null,
      "outputs": [
        {
          "output_type": "stream",
          "name": "stdout",
          "text": [
            "[[[63 64  1  1]\n",
            "  [57 24 11 81]]\n",
            "\n",
            " [[42 89 68 70]\n",
            "  [98 33 68 41]]]\n"
          ]
        }
      ]
    },
    {
      "cell_type": "code",
      "source": [],
      "metadata": {
        "id": "wBGsnXbBd5cN"
      },
      "execution_count": null,
      "outputs": []
    }
  ]
}